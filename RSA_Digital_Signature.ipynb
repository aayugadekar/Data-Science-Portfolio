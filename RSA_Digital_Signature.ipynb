{
  "nbformat": 4,
  "nbformat_minor": 0,
  "metadata": {
    "colab": {
      "name": "Copy of RSA Digital Signature.ipynb",
      "provenance": [],
      "authorship_tag": "ABX9TyOv1NTYu0FNdh4CI8j7OgvR",
      "include_colab_link": true
    },
    "kernelspec": {
      "name": "python3",
      "display_name": "Python 3"
    },
    "language_info": {
      "name": "python"
    }
  },
  "cells": [
    {
      "cell_type": "markdown",
      "metadata": {
        "id": "view-in-github",
        "colab_type": "text"
      },
      "source": [
        "<a href=\"https://colab.research.google.com/github/aayugadekar/Data-Science-Portfolio/blob/main/RSA_Digital_Signature.ipynb\" target=\"_parent\"><img src=\"https://colab.research.google.com/assets/colab-badge.svg\" alt=\"Open In Colab\"/></a>"
      ]
    },
    {
      "cell_type": "code",
      "execution_count": 1,
      "metadata": {
        "colab": {
          "base_uri": "https://localhost:8080/"
        },
        "id": "1WkPUfpx2N2i",
        "outputId": "867e8540-5ce8-4863-a198-536705a5d102"
      },
      "outputs": [
        {
          "output_type": "stream",
          "name": "stdout",
          "text": [
            "Collecting pycrypto\n",
            "  Downloading pycrypto-2.6.1.tar.gz (446 kB)\n",
            "\u001b[?25l\r\u001b[K     |▊                               | 10 kB 30.1 MB/s eta 0:00:01\r\u001b[K     |█▌                              | 20 kB 36.3 MB/s eta 0:00:01\r\u001b[K     |██▏                             | 30 kB 40.3 MB/s eta 0:00:01\r\u001b[K     |███                             | 40 kB 22.1 MB/s eta 0:00:01\r\u001b[K     |███▊                            | 51 kB 16.1 MB/s eta 0:00:01\r\u001b[K     |████▍                           | 61 kB 15.6 MB/s eta 0:00:01\r\u001b[K     |█████▏                          | 71 kB 12.7 MB/s eta 0:00:01\r\u001b[K     |█████▉                          | 81 kB 13.8 MB/s eta 0:00:01\r\u001b[K     |██████▋                         | 92 kB 15.2 MB/s eta 0:00:01\r\u001b[K     |███████▍                        | 102 kB 13.9 MB/s eta 0:00:01\r\u001b[K     |████████                        | 112 kB 13.9 MB/s eta 0:00:01\r\u001b[K     |████████▉                       | 122 kB 13.9 MB/s eta 0:00:01\r\u001b[K     |█████████▌                      | 133 kB 13.9 MB/s eta 0:00:01\r\u001b[K     |██████████▎                     | 143 kB 13.9 MB/s eta 0:00:01\r\u001b[K     |███████████                     | 153 kB 13.9 MB/s eta 0:00:01\r\u001b[K     |███████████▊                    | 163 kB 13.9 MB/s eta 0:00:01\r\u001b[K     |████████████▌                   | 174 kB 13.9 MB/s eta 0:00:01\r\u001b[K     |█████████████▏                  | 184 kB 13.9 MB/s eta 0:00:01\r\u001b[K     |██████████████                  | 194 kB 13.9 MB/s eta 0:00:01\r\u001b[K     |██████████████▊                 | 204 kB 13.9 MB/s eta 0:00:01\r\u001b[K     |███████████████▍                | 215 kB 13.9 MB/s eta 0:00:01\r\u001b[K     |████████████████▏               | 225 kB 13.9 MB/s eta 0:00:01\r\u001b[K     |█████████████████               | 235 kB 13.9 MB/s eta 0:00:01\r\u001b[K     |█████████████████▋              | 245 kB 13.9 MB/s eta 0:00:01\r\u001b[K     |██████████████████▍             | 256 kB 13.9 MB/s eta 0:00:01\r\u001b[K     |███████████████████             | 266 kB 13.9 MB/s eta 0:00:01\r\u001b[K     |███████████████████▉            | 276 kB 13.9 MB/s eta 0:00:01\r\u001b[K     |████████████████████▋           | 286 kB 13.9 MB/s eta 0:00:01\r\u001b[K     |█████████████████████▎          | 296 kB 13.9 MB/s eta 0:00:01\r\u001b[K     |██████████████████████          | 307 kB 13.9 MB/s eta 0:00:01\r\u001b[K     |██████████████████████▊         | 317 kB 13.9 MB/s eta 0:00:01\r\u001b[K     |███████████████████████▌        | 327 kB 13.9 MB/s eta 0:00:01\r\u001b[K     |████████████████████████▎       | 337 kB 13.9 MB/s eta 0:00:01\r\u001b[K     |█████████████████████████       | 348 kB 13.9 MB/s eta 0:00:01\r\u001b[K     |█████████████████████████▊      | 358 kB 13.9 MB/s eta 0:00:01\r\u001b[K     |██████████████████████████▍     | 368 kB 13.9 MB/s eta 0:00:01\r\u001b[K     |███████████████████████████▏    | 378 kB 13.9 MB/s eta 0:00:01\r\u001b[K     |████████████████████████████    | 389 kB 13.9 MB/s eta 0:00:01\r\u001b[K     |████████████████████████████▋   | 399 kB 13.9 MB/s eta 0:00:01\r\u001b[K     |█████████████████████████████▍  | 409 kB 13.9 MB/s eta 0:00:01\r\u001b[K     |██████████████████████████████  | 419 kB 13.9 MB/s eta 0:00:01\r\u001b[K     |██████████████████████████████▉ | 430 kB 13.9 MB/s eta 0:00:01\r\u001b[K     |███████████████████████████████▋| 440 kB 13.9 MB/s eta 0:00:01\r\u001b[K     |████████████████████████████████| 446 kB 13.9 MB/s \n",
            "\u001b[?25hBuilding wheels for collected packages: pycrypto\n",
            "  Building wheel for pycrypto (setup.py) ... \u001b[?25l\u001b[?25hdone\n",
            "  Created wheel for pycrypto: filename=pycrypto-2.6.1-cp37-cp37m-linux_x86_64.whl size=499932 sha256=2ee5715a47824a13fb09b7ef97903d5d0a24945915f4d651e3fed75ea32ca7fb\n",
            "  Stored in directory: /root/.cache/pip/wheels/cf/85/ba/bbd7c96add459de7598fb424e5ff2309baf2095c844ac0f191\n",
            "Successfully built pycrypto\n",
            "Installing collected packages: pycrypto\n",
            "Successfully installed pycrypto-2.6.1\n",
            "b'T89NQy2mS3cqdKgohokXN21n1Zh80eio9u3s74So7CgLTv9XqNzsJmcMRXGbC4an0/L9zX+4cLyaU+j1+JTpqSgz6RYXxj71v9VJNrlzNkUHjbpkNZqhh+FdC/mqV1GM9emDXvhZv+5pGS/Xs1BqkFAED3AwgcoPkr1TMuUShUM='\n"
          ]
        },
        {
          "output_type": "execute_result",
          "data": {
            "text/plain": [
              "b'Hello World!'"
            ]
          },
          "metadata": {},
          "execution_count": 1
        }
      ],
      "source": [
        "!pip install pycrypto\n",
        "import Crypto\n",
        "from Crypto.PublicKey import RSA\n",
        "from Crypto import Random\n",
        "import base64\n",
        "def rsakeys():\n",
        "  length = 1024\n",
        "  privatekey = RSA.generate(length,Random.new().read)\n",
        "  publickey = privatekey.publickey()\n",
        "  return privatekey, publickey\n",
        "def encrypt(rsa_publickey,plain_text):\n",
        "  cipher_text = rsa_publickey.encrypt(plain_text,32)[0]\n",
        "  b64cipher = base64.b64encode(cipher_text)\n",
        "  return b64cipher\n",
        "def decrypt(rsa_privatekey,b64cipher):\n",
        "  decoded_ciphertext = base64.b64decode(b64cipher)\n",
        "  plaintext = rsa_privatekey.decrypt(decoded_ciphertext)\n",
        "  return plaintext\n",
        "privatekey,publickey = rsakeys() #generating keys\n",
        "text = b\"Hello World!\" #text to encrypt\n",
        "ct = encrypt(publickey,text)\n",
        "\n",
        "print(ct)\n",
        "\n",
        "decrypt(privatekey,ct) #decryption\n"
      ]
    },
    {
      "cell_type": "code",
      "source": [
        ""
      ],
      "metadata": {
        "id": "cM0f1pLG8SGf"
      },
      "execution_count": null,
      "outputs": []
    }
  ]
}